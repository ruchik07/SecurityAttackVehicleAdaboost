{
 "cells": [
  {
   "cell_type": "code",
   "execution_count": 1,
   "id": "f6d0b548",
   "metadata": {},
   "outputs": [],
   "source": [
    "import numpy as np\n",
    "import pandas as pd\n",
    "import seaborn as sns\n",
    "import matplotlib.pyplot as plt\n",
    "from sklearn import preprocessing\n",
    "from sklearn.preprocessing import LabelEncoder,MinMaxScaler\n",
    "from sklearn.model_selection import train_test_split,cross_val_score\n",
    "from sklearn.metrics import confusion_matrix,accuracy_score,precision_recall_fscore_support\n",
    "import warnings\n",
    "warnings.filterwarnings('ignore')"
   ]
  },
  {
   "cell_type": "markdown",
   "id": "393e13c2",
   "metadata": {},
   "source": [
    "# Read Dataset"
   ]
  },
  {
   "cell_type": "code",
   "execution_count": 2,
   "id": "8538ca90",
   "metadata": {},
   "outputs": [
    {
     "data": {
      "text/html": [
       "<div>\n",
       "<style scoped>\n",
       "    .dataframe tbody tr th:only-of-type {\n",
       "        vertical-align: middle;\n",
       "    }\n",
       "\n",
       "    .dataframe tbody tr th {\n",
       "        vertical-align: top;\n",
       "    }\n",
       "\n",
       "    .dataframe thead th {\n",
       "        text-align: right;\n",
       "    }\n",
       "</style>\n",
       "<table border=\"1\" class=\"dataframe\">\n",
       "  <thead>\n",
       "    <tr style=\"text-align: right;\">\n",
       "      <th></th>\n",
       "      <th>time</th>\n",
       "      <th>shunt_voltage</th>\n",
       "      <th>bus_voltage_V</th>\n",
       "      <th>current_mA</th>\n",
       "      <th>power_mW</th>\n",
       "      <th>State</th>\n",
       "      <th>Attack</th>\n",
       "      <th>Attack-Group</th>\n",
       "      <th>Label</th>\n",
       "      <th>interface</th>\n",
       "    </tr>\n",
       "  </thead>\n",
       "  <tbody>\n",
       "    <tr>\n",
       "      <th>0</th>\n",
       "      <td>12/25/2023 22:35</td>\n",
       "      <td>978</td>\n",
       "      <td>5.165</td>\n",
       "      <td>1027</td>\n",
       "      <td>5300</td>\n",
       "      <td>idle</td>\n",
       "      <td>syn-flood</td>\n",
       "      <td>DoS</td>\n",
       "      <td>attack</td>\n",
       "      <td>ocpp</td>\n",
       "    </tr>\n",
       "    <tr>\n",
       "      <th>1</th>\n",
       "      <td>12/25/2023 22:35</td>\n",
       "      <td>872</td>\n",
       "      <td>5.161</td>\n",
       "      <td>1009</td>\n",
       "      <td>4980</td>\n",
       "      <td>idle</td>\n",
       "      <td>syn-flood</td>\n",
       "      <td>DoS</td>\n",
       "      <td>attack</td>\n",
       "      <td>ocpp</td>\n",
       "    </tr>\n",
       "    <tr>\n",
       "      <th>2</th>\n",
       "      <td>12/25/2023 22:35</td>\n",
       "      <td>1017</td>\n",
       "      <td>5.165</td>\n",
       "      <td>1029</td>\n",
       "      <td>5300</td>\n",
       "      <td>idle</td>\n",
       "      <td>syn-flood</td>\n",
       "      <td>DoS</td>\n",
       "      <td>attack</td>\n",
       "      <td>ocpp</td>\n",
       "    </tr>\n",
       "    <tr>\n",
       "      <th>3</th>\n",
       "      <td>12/25/2023 22:35</td>\n",
       "      <td>930</td>\n",
       "      <td>5.161</td>\n",
       "      <td>1005</td>\n",
       "      <td>5180</td>\n",
       "      <td>idle</td>\n",
       "      <td>syn-flood</td>\n",
       "      <td>DoS</td>\n",
       "      <td>attack</td>\n",
       "      <td>ocpp</td>\n",
       "    </tr>\n",
       "    <tr>\n",
       "      <th>4</th>\n",
       "      <td>12/25/2023 22:35</td>\n",
       "      <td>958</td>\n",
       "      <td>5.165</td>\n",
       "      <td>1034</td>\n",
       "      <td>5180</td>\n",
       "      <td>idle</td>\n",
       "      <td>syn-flood</td>\n",
       "      <td>DoS</td>\n",
       "      <td>attack</td>\n",
       "      <td>ocpp</td>\n",
       "    </tr>\n",
       "  </tbody>\n",
       "</table>\n",
       "</div>"
      ],
      "text/plain": [
       "               time  shunt_voltage  bus_voltage_V  current_mA  power_mW State  \\\n",
       "0  12/25/2023 22:35            978          5.165        1027      5300  idle   \n",
       "1  12/25/2023 22:35            872          5.161        1009      4980  idle   \n",
       "2  12/25/2023 22:35           1017          5.165        1029      5300  idle   \n",
       "3  12/25/2023 22:35            930          5.161        1005      5180  idle   \n",
       "4  12/25/2023 22:35            958          5.165        1034      5180  idle   \n",
       "\n",
       "      Attack Attack-Group   Label interface  \n",
       "0  syn-flood          DoS  attack      ocpp  \n",
       "1  syn-flood          DoS  attack      ocpp  \n",
       "2  syn-flood          DoS  attack      ocpp  \n",
       "3  syn-flood          DoS  attack      ocpp  \n",
       "4  syn-flood          DoS  attack      ocpp  "
      ]
     },
     "execution_count": 2,
     "metadata": {},
     "output_type": "execute_result"
    }
   ],
   "source": [
    "df=pd.read_csv('MyDataset.csv')\n",
    "df.head()"
   ]
  },
  {
   "cell_type": "markdown",
   "id": "3564e502",
   "metadata": {},
   "source": [
    "# Data Preprocessing"
   ]
  },
  {
   "cell_type": "code",
   "execution_count": 3,
   "id": "e476b17f",
   "metadata": {},
   "outputs": [
    {
     "data": {
      "text/plain": [
       "1100"
      ]
     },
     "execution_count": 3,
     "metadata": {},
     "output_type": "execute_result"
    }
   ],
   "source": [
    "df.duplicated().sum()"
   ]
  },
  {
   "cell_type": "code",
   "execution_count": 4,
   "id": "81f45609",
   "metadata": {},
   "outputs": [
    {
     "data": {
      "text/html": [
       "<div>\n",
       "<style scoped>\n",
       "    .dataframe tbody tr th:only-of-type {\n",
       "        vertical-align: middle;\n",
       "    }\n",
       "\n",
       "    .dataframe tbody tr th {\n",
       "        vertical-align: top;\n",
       "    }\n",
       "\n",
       "    .dataframe thead th {\n",
       "        text-align: right;\n",
       "    }\n",
       "</style>\n",
       "<table border=\"1\" class=\"dataframe\">\n",
       "  <thead>\n",
       "    <tr style=\"text-align: right;\">\n",
       "      <th></th>\n",
       "      <th>time</th>\n",
       "      <th>shunt_voltage</th>\n",
       "      <th>bus_voltage_V</th>\n",
       "      <th>current_mA</th>\n",
       "      <th>power_mW</th>\n",
       "      <th>State</th>\n",
       "      <th>Attack</th>\n",
       "      <th>Attack-Group</th>\n",
       "      <th>Label</th>\n",
       "      <th>interface</th>\n",
       "    </tr>\n",
       "  </thead>\n",
       "  <tbody>\n",
       "    <tr>\n",
       "      <th>0</th>\n",
       "      <td>12/25/2023 22:35</td>\n",
       "      <td>978</td>\n",
       "      <td>5.165</td>\n",
       "      <td>1027</td>\n",
       "      <td>5300</td>\n",
       "      <td>idle</td>\n",
       "      <td>syn-flood</td>\n",
       "      <td>DoS</td>\n",
       "      <td>attack</td>\n",
       "      <td>ocpp</td>\n",
       "    </tr>\n",
       "    <tr>\n",
       "      <th>1</th>\n",
       "      <td>12/25/2023 22:35</td>\n",
       "      <td>872</td>\n",
       "      <td>5.161</td>\n",
       "      <td>1009</td>\n",
       "      <td>4980</td>\n",
       "      <td>idle</td>\n",
       "      <td>syn-flood</td>\n",
       "      <td>DoS</td>\n",
       "      <td>attack</td>\n",
       "      <td>ocpp</td>\n",
       "    </tr>\n",
       "    <tr>\n",
       "      <th>2</th>\n",
       "      <td>12/25/2023 22:35</td>\n",
       "      <td>1017</td>\n",
       "      <td>5.165</td>\n",
       "      <td>1029</td>\n",
       "      <td>5300</td>\n",
       "      <td>idle</td>\n",
       "      <td>syn-flood</td>\n",
       "      <td>DoS</td>\n",
       "      <td>attack</td>\n",
       "      <td>ocpp</td>\n",
       "    </tr>\n",
       "    <tr>\n",
       "      <th>3</th>\n",
       "      <td>12/25/2023 22:35</td>\n",
       "      <td>930</td>\n",
       "      <td>5.161</td>\n",
       "      <td>1005</td>\n",
       "      <td>5180</td>\n",
       "      <td>idle</td>\n",
       "      <td>syn-flood</td>\n",
       "      <td>DoS</td>\n",
       "      <td>attack</td>\n",
       "      <td>ocpp</td>\n",
       "    </tr>\n",
       "    <tr>\n",
       "      <th>4</th>\n",
       "      <td>12/25/2023 22:35</td>\n",
       "      <td>958</td>\n",
       "      <td>5.165</td>\n",
       "      <td>1034</td>\n",
       "      <td>5180</td>\n",
       "      <td>idle</td>\n",
       "      <td>syn-flood</td>\n",
       "      <td>DoS</td>\n",
       "      <td>attack</td>\n",
       "      <td>ocpp</td>\n",
       "    </tr>\n",
       "    <tr>\n",
       "      <th>...</th>\n",
       "      <td>...</td>\n",
       "      <td>...</td>\n",
       "      <td>...</td>\n",
       "      <td>...</td>\n",
       "      <td>...</td>\n",
       "      <td>...</td>\n",
       "      <td>...</td>\n",
       "      <td>...</td>\n",
       "      <td>...</td>\n",
       "      <td>...</td>\n",
       "    </tr>\n",
       "    <tr>\n",
       "      <th>115292</th>\n",
       "      <td>12/30/2023 11:51</td>\n",
       "      <td>699</td>\n",
       "      <td>5.177</td>\n",
       "      <td>764</td>\n",
       "      <td>2680</td>\n",
       "      <td>idle</td>\n",
       "      <td>Backdoor</td>\n",
       "      <td>host-attack</td>\n",
       "      <td>attack</td>\n",
       "      <td>any</td>\n",
       "    </tr>\n",
       "    <tr>\n",
       "      <th>115293</th>\n",
       "      <td>12/30/2023 11:51</td>\n",
       "      <td>484</td>\n",
       "      <td>5.201</td>\n",
       "      <td>487</td>\n",
       "      <td>2500</td>\n",
       "      <td>idle</td>\n",
       "      <td>Backdoor</td>\n",
       "      <td>host-attack</td>\n",
       "      <td>attack</td>\n",
       "      <td>any</td>\n",
       "    </tr>\n",
       "    <tr>\n",
       "      <th>115294</th>\n",
       "      <td>12/30/2023 11:51</td>\n",
       "      <td>477</td>\n",
       "      <td>5.197</td>\n",
       "      <td>567</td>\n",
       "      <td>2860</td>\n",
       "      <td>idle</td>\n",
       "      <td>Backdoor</td>\n",
       "      <td>host-attack</td>\n",
       "      <td>attack</td>\n",
       "      <td>any</td>\n",
       "    </tr>\n",
       "    <tr>\n",
       "      <th>115295</th>\n",
       "      <td>12/30/2023 11:51</td>\n",
       "      <td>510</td>\n",
       "      <td>5.197</td>\n",
       "      <td>509</td>\n",
       "      <td>2660</td>\n",
       "      <td>idle</td>\n",
       "      <td>Backdoor</td>\n",
       "      <td>host-attack</td>\n",
       "      <td>attack</td>\n",
       "      <td>any</td>\n",
       "    </tr>\n",
       "    <tr>\n",
       "      <th>115297</th>\n",
       "      <td>12/30/2023 11:51</td>\n",
       "      <td>631</td>\n",
       "      <td>5.189</td>\n",
       "      <td>621</td>\n",
       "      <td>3240</td>\n",
       "      <td>idle</td>\n",
       "      <td>Backdoor</td>\n",
       "      <td>host-attack</td>\n",
       "      <td>attack</td>\n",
       "      <td>any</td>\n",
       "    </tr>\n",
       "  </tbody>\n",
       "</table>\n",
       "<p>114198 rows × 10 columns</p>\n",
       "</div>"
      ],
      "text/plain": [
       "                    time  shunt_voltage  bus_voltage_V  current_mA  power_mW  \\\n",
       "0       12/25/2023 22:35            978          5.165        1027      5300   \n",
       "1       12/25/2023 22:35            872          5.161        1009      4980   \n",
       "2       12/25/2023 22:35           1017          5.165        1029      5300   \n",
       "3       12/25/2023 22:35            930          5.161        1005      5180   \n",
       "4       12/25/2023 22:35            958          5.165        1034      5180   \n",
       "...                  ...            ...            ...         ...       ...   \n",
       "115292  12/30/2023 11:51            699          5.177         764      2680   \n",
       "115293  12/30/2023 11:51            484          5.201         487      2500   \n",
       "115294  12/30/2023 11:51            477          5.197         567      2860   \n",
       "115295  12/30/2023 11:51            510          5.197         509      2660   \n",
       "115297  12/30/2023 11:51            631          5.189         621      3240   \n",
       "\n",
       "       State     Attack Attack-Group   Label interface  \n",
       "0       idle  syn-flood          DoS  attack      ocpp  \n",
       "1       idle  syn-flood          DoS  attack      ocpp  \n",
       "2       idle  syn-flood          DoS  attack      ocpp  \n",
       "3       idle  syn-flood          DoS  attack      ocpp  \n",
       "4       idle  syn-flood          DoS  attack      ocpp  \n",
       "...      ...        ...          ...     ...       ...  \n",
       "115292  idle   Backdoor  host-attack  attack       any  \n",
       "115293  idle   Backdoor  host-attack  attack       any  \n",
       "115294  idle   Backdoor  host-attack  attack       any  \n",
       "115295  idle   Backdoor  host-attack  attack       any  \n",
       "115297  idle   Backdoor  host-attack  attack       any  \n",
       "\n",
       "[114198 rows x 10 columns]"
      ]
     },
     "execution_count": 4,
     "metadata": {},
     "output_type": "execute_result"
    }
   ],
   "source": [
    "df=df.drop_duplicates()\n",
    "df"
   ]
  },
  {
   "cell_type": "code",
   "execution_count": 5,
   "id": "f25fcb0a",
   "metadata": {},
   "outputs": [
    {
     "data": {
      "text/plain": [
       "0"
      ]
     },
     "execution_count": 5,
     "metadata": {},
     "output_type": "execute_result"
    }
   ],
   "source": [
    "df.duplicated().sum()"
   ]
  },
  {
   "cell_type": "code",
   "execution_count": 6,
   "id": "934d128b",
   "metadata": {},
   "outputs": [
    {
     "data": {
      "text/plain": [
       "time             1995\n",
       "shunt_voltage     750\n",
       "bus_voltage_V      23\n",
       "current_mA        751\n",
       "power_mW          124\n",
       "State               2\n",
       "Attack              7\n",
       "Attack-Group        4\n",
       "Label               2\n",
       "interface           3\n",
       "dtype: int64"
      ]
     },
     "execution_count": 6,
     "metadata": {},
     "output_type": "execute_result"
    }
   ],
   "source": [
    "df.nunique()"
   ]
  },
  {
   "cell_type": "code",
   "execution_count": 7,
   "id": "9d814913",
   "metadata": {},
   "outputs": [
    {
     "data": {
      "text/plain": [
       "array([ 978,  872, 1017,  930,  958,  935,  948,  960,  928,  844,  843,\n",
       "        968,  831,  719,  781,  646,  683,  498,  495,  814,  919,  905,\n",
       "        929,  943,  916,  839,  820,  961,  898,  989,  836,  934,  878,\n",
       "        936,  901,  893,  939,  785, 1013,  867, 1114,  880,  805,  725,\n",
       "        778,  648,  533,  492,  623,  911,  949,  975, 1023,  988,  952,\n",
       "        854,  947,  899, 1041,  914, 1015,  896, 1031,  998,  882,  853,\n",
       "        904,  889, 1018,  999,  891,  982,  910,  819,  769,  817,  674,\n",
       "        602,  693,  888,  866, 1002,  970, 1021,  909,  980,  953,  983,\n",
       "        972,  976,  862,  938,  937, 1032,  886,  951,  750,  994,  501,\n",
       "        627,  499,  526,  622,  892,  855,  902,  923, 1014,  897,  974,\n",
       "       1019,  821,  924,  954,  858,  996,  890, 1007,  979,  753,  801,\n",
       "        645,  620,  761,  564,  860, 1029, 1067,  906, 1045, 1026,  965,\n",
       "        957,  967,  941,  798,  864,  925,  788,  987,  865,  945,  883,\n",
       "        922,  754,  568,  660,  497,  649,  530,  748, 1016, 1038,  837,\n",
       "       1028,  875,  992,  950, 1025,  956,  917, 1024,  658,  772,  547,\n",
       "        491,  701,  672, 1030,  927,  985,  920,  964,  940, 1027,  921,\n",
       "        861,  735,  863,  868, 1036,  852,  918,  792,  573,  590,  500,\n",
       "        475,  756, 1010,  944,  946,  833, 1005,  835,  981, 1000,  838,\n",
       "        881,  813,  977,  942,  969,  637,  503,  696,  734,  876,  913,\n",
       "        993,  973, 1071, 1009,  955,  706,  665,  591,  908,  984,  885,\n",
       "        903,  856,  966,  887, 1055, 1070, 1130,  641,  538,  515,  763,\n",
       "        636, 1056,  959,  825,  932,  895, 1081, 1033, 1006, 1008, 1078,\n",
       "       1050,  720,  604,  628,  800, 1011,  840, 1090,  850,  490,  586,\n",
       "        830,  657,  986, 1095, 1042,  971,  963,  828,  571,  659,  532,\n",
       "        722,  796,  714,  732,  700,  640,  933,  907,  915,  802,  581,\n",
       "        774,  537,  650,  554,  582,  634,  552,  607,  688,  849,  768,\n",
       "        822,  851,  877, 1052, 1166,  894,  997, 1020, 1087,  726,  846,\n",
       "        625,  879, 1003, 1084, 1043,  715,  931, 1072, 1039,  926,  676,\n",
       "        857,  671,  525,  874,  759,  804,  654,  787,  614, 1064,  791,\n",
       "        884, 1060, 1049,  995,  841,  869, 1048,  871,  818,  724,  565,\n",
       "        738, 1122,  847,  752,  601,  496,  776,  639, 1037, 1004, 1088,\n",
       "        859, 1061,  780,  668,  655,  576,  793,  870, 1082,  829,  873,\n",
       "        912,  697,  694,  511,  727,  703,  784,  516,  599,  685,  482,\n",
       "        505,  513,  848, 1077, 1146,  656,  691,  682,  585,  662,  504,\n",
       "        560,  990,  991, 1022, 1123,  760,  555, 1057,  666,  747,  557,\n",
       "        545,  773,  633,  502,  807, 1059,  638,  606,  826,  487, 1001,\n",
       "        757,  484,  678,  510,  480,  583,  630,  687,  751,  561,  595,\n",
       "       1012, 1069,  613,  558,  629,  569,  485,  962,  797,  699,  731,\n",
       "        509,  743,  765,  542, 1092,  522,  494, 1054,  709,  689,  624,\n",
       "        506,  534,  710,  642,  570, 1058, 1083, 1066,  795,  711,  663,\n",
       "       1074,  493,  619,  705,  652,  631, 1068, 1034, 1035, 1046, 1080,\n",
       "        611,  810,  563,  745,  686,  812,  695,  777, 1110, 1099, 1062,\n",
       "       1086, 1044,  809, 1040,  900,  758,  653,  518, 1063, 1105,  661,\n",
       "        667, 1124, 1126, 1106,  598,  529,  528,  782, 1097,  632,  755,\n",
       "        762, 1047,  523,  647, 1065, 1107,  664,  679, 1075, 1051, 1085,\n",
       "       1053,  744,  541,  786, 1094,  635,  600,  517,  616,  680,  577,\n",
       "        677,  767, 1103,  512,  766,  588,  594,  612,  521,  605, 1108,\n",
       "       1113,  827,  702,  514, 1147,  580, 1093, 1104,  721,  737, 1073,\n",
       "        749, 1140, 1118,  736,  531,  621,  644, 1101, 1111,  764,  832,\n",
       "        783,  690,  794, 1089,  562,  617,  486,  488,  483,  479,  572,\n",
       "        481,  477,  543,  845, 1100, 1076,  790,  842,  803,  651,  643,\n",
       "        834,  575,  584,  779,  592, 1155,  713,  551, 1102, 1149,  816,\n",
       "        708,  539,  684,  520,  811,  704,  815, 1133, 1117, 1109,  746,\n",
       "        567,  524,  550,  718,  553,  771,  723,  609,  808,  618,  593,\n",
       "        730,  823,  741,  775, 1138,  579, 1096,  566,  540,  669,  536,\n",
       "       1134,  608,  535, 1158, 1098,  596,  549, 1135,  508, 1144, 1079,\n",
       "       1154,  589, 1131, 1128,  707, 1116,  670, 1148,  559, 1115,  728,\n",
       "        610, 1165,  739,  742,  733,  489,  578,  556,  806,  544, 1129,\n",
       "       1121, 1091, 1203, 1175, 1181, 1127,  729, 1143,  603, 1125,  799,\n",
       "       1137,  587, 1112, 1160, 1132,  789,  519,  824,  770,  673, 1120,\n",
       "        574, 1136,  712,  626, 1142, 1161,  740,  675,  615,  717,  716,\n",
       "       1119, 1141, 1162, 1182, 1174, 1156,  597,  548,  527,  478,  692,\n",
       "        476,  698,  474, 1199,  464,  470,  469,  466,  463,  468,  462,\n",
       "        465,  467,  471,  461,  473,  472,  507,  546,  460,  459,  458,\n",
       "        681, 1164, 1214, 1145, 1159,  448,  437,  444,  442,  438,  443,\n",
       "        439,  440,  433,  431,  435,  423,  425,  454,  436,  434,  446,\n",
       "        445,  453,  421,  450,  441,  432,  457,  430,  451,  449,  452,\n",
       "        455,  428,  429,  424,  447,  456,  427,  422,  426,  419,  420,\n",
       "        417,  418], dtype=int64)"
      ]
     },
     "execution_count": 7,
     "metadata": {},
     "output_type": "execute_result"
    }
   ],
   "source": [
    "df['shunt_voltage'].unique()"
   ]
  },
  {
   "cell_type": "code",
   "execution_count": 8,
   "id": "cbe65bf8",
   "metadata": {},
   "outputs": [
    {
     "data": {
      "text/plain": [
       "attack    99898\n",
       "benign    14300\n",
       "Name: Label, dtype: int64"
      ]
     },
     "execution_count": 8,
     "metadata": {},
     "output_type": "execute_result"
    }
   ],
   "source": [
    "df['Label'].value_counts()"
   ]
  },
  {
   "cell_type": "code",
   "execution_count": 9,
   "id": "ddcc5485",
   "metadata": {},
   "outputs": [
    {
     "data": {
      "text/plain": [
       "DoS            34496\n",
       "recon          32717\n",
       "host-attack    32685\n",
       "none           14300\n",
       "Name: Attack-Group, dtype: int64"
      ]
     },
     "execution_count": 9,
     "metadata": {},
     "output_type": "execute_result"
    }
   ],
   "source": [
    "df['Attack-Group'].value_counts()"
   ]
  },
  {
   "cell_type": "code",
   "execution_count": 10,
   "id": "f8e795bf",
   "metadata": {},
   "outputs": [],
   "source": [
    "df['Attack-Group']=df['Attack-Group'].str.replace('none','Benign',case=False)"
   ]
  },
  {
   "cell_type": "code",
   "execution_count": 11,
   "id": "3abb7f4a",
   "metadata": {},
   "outputs": [
    {
     "data": {
      "text/plain": [
       "DoS            34496\n",
       "recon          32717\n",
       "host-attack    32685\n",
       "Benign         14300\n",
       "Name: Attack-Group, dtype: int64"
      ]
     },
     "execution_count": 11,
     "metadata": {},
     "output_type": "execute_result"
    }
   ],
   "source": [
    "df['Attack-Group'].value_counts()"
   ]
  },
  {
   "cell_type": "code",
   "execution_count": 12,
   "id": "a1b63dcd",
   "metadata": {},
   "outputs": [
    {
     "data": {
      "text/plain": [
       "ocpp    67213\n",
       "any     32685\n",
       "none    14300\n",
       "Name: interface, dtype: int64"
      ]
     },
     "execution_count": 12,
     "metadata": {},
     "output_type": "execute_result"
    }
   ],
   "source": [
    "df['interface'].value_counts()"
   ]
  },
  {
   "cell_type": "markdown",
   "id": "9b9741f6",
   "metadata": {},
   "source": [
    "# Data Visualisation"
   ]
  },
  {
   "cell_type": "code",
   "execution_count": 13,
   "id": "3fc07374",
   "metadata": {},
   "outputs": [
    {
     "data": {
      "text/html": [
       "<div>\n",
       "<style scoped>\n",
       "    .dataframe tbody tr th:only-of-type {\n",
       "        vertical-align: middle;\n",
       "    }\n",
       "\n",
       "    .dataframe tbody tr th {\n",
       "        vertical-align: top;\n",
       "    }\n",
       "\n",
       "    .dataframe thead th {\n",
       "        text-align: right;\n",
       "    }\n",
       "</style>\n",
       "<table border=\"1\" class=\"dataframe\">\n",
       "  <thead>\n",
       "    <tr style=\"text-align: right;\">\n",
       "      <th></th>\n",
       "      <th>shunt_voltage</th>\n",
       "      <th>bus_voltage_V</th>\n",
       "      <th>current_mA</th>\n",
       "      <th>power_mW</th>\n",
       "    </tr>\n",
       "  </thead>\n",
       "  <tbody>\n",
       "    <tr>\n",
       "      <th>shunt_voltage</th>\n",
       "      <td>1.000000</td>\n",
       "      <td>-0.955147</td>\n",
       "      <td>0.935079</td>\n",
       "      <td>0.926329</td>\n",
       "    </tr>\n",
       "    <tr>\n",
       "      <th>bus_voltage_V</th>\n",
       "      <td>-0.955147</td>\n",
       "      <td>1.000000</td>\n",
       "      <td>-0.947521</td>\n",
       "      <td>-0.940558</td>\n",
       "    </tr>\n",
       "    <tr>\n",
       "      <th>current_mA</th>\n",
       "      <td>0.935079</td>\n",
       "      <td>-0.947521</td>\n",
       "      <td>1.000000</td>\n",
       "      <td>0.963560</td>\n",
       "    </tr>\n",
       "    <tr>\n",
       "      <th>power_mW</th>\n",
       "      <td>0.926329</td>\n",
       "      <td>-0.940558</td>\n",
       "      <td>0.963560</td>\n",
       "      <td>1.000000</td>\n",
       "    </tr>\n",
       "  </tbody>\n",
       "</table>\n",
       "</div>"
      ],
      "text/plain": [
       "               shunt_voltage  bus_voltage_V  current_mA  power_mW\n",
       "shunt_voltage       1.000000      -0.955147    0.935079  0.926329\n",
       "bus_voltage_V      -0.955147       1.000000   -0.947521 -0.940558\n",
       "current_mA          0.935079      -0.947521    1.000000  0.963560\n",
       "power_mW            0.926329      -0.940558    0.963560  1.000000"
      ]
     },
     "execution_count": 13,
     "metadata": {},
     "output_type": "execute_result"
    }
   ],
   "source": [
    "df.corr()"
   ]
  },
  {
   "cell_type": "code",
   "execution_count": 14,
   "id": "4456c929",
   "metadata": {},
   "outputs": [
    {
     "data": {
      "text/plain": [
       "<Axes: >"
      ]
     },
     "execution_count": 14,
     "metadata": {},
     "output_type": "execute_result"
    },
    {
     "data": {
      "image/png": "[encoded data removed]",
      "text/plain": [
       "<Figure size 640x480 with 2 Axes>"
      ]
     },
     "metadata": {},
     "output_type": "display_data"
    }
   ],
   "source": [
    "import seaborn as sns\n",
    "sns.heatmap(df.corr())"
   ]
  },
  {
   "cell_type": "code",
   "execution_count": 15,
   "id": "a52667df",
   "metadata": {},
   "outputs": [
    {
     "data": {
      "text/plain": [
       "Index(['time', 'shunt_voltage', 'bus_voltage_V', 'current_mA', 'power_mW',\n",
       "       'State', 'Attack', 'Attack-Group', 'Label', 'interface'],\n",
       "      dtype='object')"
      ]
     },
     "execution_count": 15,
     "metadata": {},
     "output_type": "execute_result"
    }
   ],
   "source": [
    "df.columns"
   ]
  },
  {
   "cell_type": "code",
   "execution_count": 16,
   "id": "462c0f61",
   "metadata": {},
   "outputs": [
    {
     "data": {
      "text/plain": [
       "idle        84606\n",
       "charging    29592\n",
       "Name: State, dtype: int64"
      ]
     },
     "execution_count": 16,
     "metadata": {},
     "output_type": "execute_result"
    }
   ],
   "source": [
    "df['State'].value_counts()"
   ]
  },
  {
   "cell_type": "code",
   "execution_count": 17,
   "id": "b7ecc7c8",
   "metadata": {},
   "outputs": [],
   "source": [
    "status_mapping={'idle':0,'charging':1}\n",
    "df['State']=df['State'].map(status_mapping)"
   ]
  },
  {
   "cell_type": "code",
   "execution_count": 18,
   "id": "bca7d9ac",
   "metadata": {},
   "outputs": [],
   "source": [
    "independent_columns=['shunt_voltage', 'bus_voltage_V', 'current_mA', 'power_mW',\n",
    "       'State']"
   ]
  },
  {
   "cell_type": "code",
   "execution_count": 19,
   "id": "2f5a18ce",
   "metadata": {},
   "outputs": [],
   "source": [
    "X=df[independent_columns]"
   ]
  },
  {
   "cell_type": "code",
   "execution_count": 20,
   "id": "a303502d",
   "metadata": {},
   "outputs": [],
   "source": [
    "y=df['Attack-Group']"
   ]
  },
  {
   "cell_type": "code",
   "execution_count": 21,
   "id": "e42f2109",
   "metadata": {},
   "outputs": [],
   "source": [
    "from sklearn.model_selection import train_test_split\n",
    "X_train ,X_test,y_train,y_test=train_test_split(X,y,test_size=0.33,random_state=42)"
   ]
  },
  {
   "cell_type": "code",
   "execution_count": 22,
   "id": "4667fd1f",
   "metadata": {},
   "outputs": [
    {
     "data": {
      "text/plain": [
       "time             0\n",
       "shunt_voltage    0\n",
       "bus_voltage_V    0\n",
       "current_mA       0\n",
       "power_mW         0\n",
       "State            0\n",
       "Attack           0\n",
       "Attack-Group     0\n",
       "Label            0\n",
       "interface        0\n",
       "dtype: int64"
      ]
     },
     "execution_count": 22,
     "metadata": {},
     "output_type": "execute_result"
    }
   ],
   "source": [
    "df.isnull().sum()"
   ]
  },
  {
   "cell_type": "code",
   "execution_count": 23,
   "id": "d8fdb7b3",
   "metadata": {},
   "outputs": [
    {
     "data": {
      "text/plain": [
       "shunt_voltage    0\n",
       "bus_voltage_V    0\n",
       "current_mA       0\n",
       "power_mW         0\n",
       "State            0\n",
       "dtype: int64"
      ]
     },
     "execution_count": 23,
     "metadata": {},
     "output_type": "execute_result"
    }
   ],
   "source": [
    "X.isnull().sum()"
   ]
  },
  {
   "cell_type": "markdown",
   "id": "6e591987",
   "metadata": {},
   "source": [
    "# Data Normalization"
   ]
  },
  {
   "cell_type": "code",
   "execution_count": 24,
   "id": "66ae86ad",
   "metadata": {},
   "outputs": [],
   "source": [
    "from sklearn.preprocessing import MinMaxScaler\n",
    "scaler = MinMaxScaler()\n",
    "X_train = scaler.fit_transform(X_train)\n",
    "X_test = scaler.transform(X_test)"
   ]
  },
  {
   "cell_type": "code",
   "execution_count": 25,
   "id": "091a0fdc",
   "metadata": {},
   "outputs": [],
   "source": [
    "from sklearn.ensemble import AdaBoostClassifier\n",
    "\n",
    "# Create AdaBoost classifier\n",
    "adaboost_clf = AdaBoostClassifier(n_estimators=50, learning_rate=1.0, random_state=42)\n",
    "\n",
    "# Train the classifier on the training data\n",
    "adaboost_clf.fit(X_train, y_train)\n",
    "\n",
    "# Make predictions on the testing data\n",
    "y_pred = adaboost_clf.predict(X_test)\n"
   ]
  },
  {
   "cell_type": "code",
   "execution_count": 26,
   "id": "988fb769",
   "metadata": {},
   "outputs": [
    {
     "name": "stdout",
     "output_type": "stream",
     "text": [
      "Predition Time: 0.6177539825439453\n"
     ]
    }
   ],
   "source": [
    "import time\n",
    "start_time = time.time()\n",
    "y_pred = adaboost_clf.predict(X_test)\n",
    "end_time = time.time()\n",
    "prediction = end_time-start_time\n",
    "print(\"Predition Time:\",prediction)"
   ]
  },
  {
   "cell_type": "code",
   "execution_count": 27,
   "id": "e3c9703e",
   "metadata": {},
   "outputs": [
    {
     "name": "stdout",
     "output_type": "stream",
     "text": [
      "0.6589184312476782\n"
     ]
    }
   ],
   "source": [
    "acc = accuracy_score(y_test, y_pred)\n",
    "print(acc)"
   ]
  },
  {
   "cell_type": "code",
   "execution_count": 28,
   "id": "7a0cf34f",
   "metadata": {},
   "outputs": [
    {
     "name": "stdout",
     "output_type": "stream",
     "text": [
      "Accuracy: 0.6589184312476782\n",
      "Precision: [0.81970128 0.73570432 0.72283315 0.56620615]\n",
      "Recall: [0.48292479 0.37111951 0.78480775 0.9132508 ]\n",
      "F1 Score: [0.60777851 0.49336529 0.75254665 0.69902436]\n",
      "classification_report: \n",
      "              precision    recall  f1-score   support\n",
      "\n",
      "      Benign       0.82      0.48      0.61      4773\n",
      "         DoS       0.74      0.37      0.49     11371\n",
      " host-attack       0.72      0.78      0.75     10637\n",
      "       recon       0.57      0.91      0.70     10905\n",
      "\n",
      "    accuracy                           0.66     37686\n",
      "   macro avg       0.71      0.64      0.64     37686\n",
      "weighted avg       0.69      0.66      0.64     37686\n",
      "\n"
     ]
    }
   ],
   "source": [
    "from sklearn.metrics import confusion_matrix, precision_score, recall_score, f1_score, cohen_kappa_score, accuracy_score, classification_report\n",
    "acc = accuracy_score(y_test ,  y_pred)\n",
    "print('Accuracy:', acc)\n",
    "prec = precision_score(y_test, y_pred, average=None)\n",
    "print('Precision:', prec)\n",
    "rec = recall_score(y_test, y_pred, average=None)\n",
    "print('Recall:', rec)\n",
    "f1 = f1_score(y_test,y_pred, average=None)\n",
    "print('F1 Score:',f1)\n",
    "print('classification_report: ')\n",
    "print(classification_report(y_test, y_pred))"
   ]
  },
  {
   "cell_type": "code",
   "execution_count": 29,
   "id": "f113c9d4",
   "metadata": {},
   "outputs": [
    {
     "name": "stdout",
     "output_type": "stream",
     "text": [
      "False Acceptance Rate (FAR) for each class:\n",
      "Class 0: 0.5866331447726797%\n",
      "Class 1: 37.11195145545687%\n",
      "Class 2: 12.296700197424085%\n",
      "Class 3: 1.6506189821182942%\n"
     ]
    }
   ],
   "source": [
    "from sklearn.metrics import confusion_matrix\n",
    "\n",
    "conf_matrix = confusion_matrix(y_test, y_pred)\n",
    "\n",
    "num_classes = len(np.unique(y_test))  # Get the number of unique classes in y_test\n",
    "if num_classes == 4 and conf_matrix.shape == (4, 4):\n",
    "    # Compute FAR for each class\n",
    "    false_acceptances = conf_matrix[:, 1]  # False acceptances for each class\n",
    "    total_attempts = np.sum(conf_matrix[:, :], axis=1)  # Total number of verification attempts for each class\n",
    "    far = (false_acceptances / total_attempts) * 100  # FAR for each class in percentage\n",
    "\n",
    "    print(\"False Acceptance Rate (FAR) for each class:\")\n",
    "    for i in range(4):  # Assuming you have 4 classes\n",
    "        print(f\"Class {i}: {far[i]}%\")\n",
    "\n",
    "else:\n",
    "    print(\"Error: Confusion matrix dimensions do not match the expected 4x4 shape for four-class classification.\")"
   ]
  },
  {
   "cell_type": "code",
   "execution_count": 30,
   "id": "3091ca7d",
   "metadata": {},
   "outputs": [
    {
     "name": "stdout",
     "output_type": "stream",
     "text": [
      "Confusion Matrix:\n",
      "[[2305   28 2175  265]\n",
      " [  97 4220  451 6603]\n",
      " [ 219 1308 8348  762]\n",
      " [ 191  180  575 9959]]\n"
     ]
    }
   ],
   "source": [
    "from sklearn.metrics import confusion_matrix\n",
    "\n",
    "# Assuming y_test contains the true labels and y_pred contains the predicted labels\n",
    "conf_matrix = confusion_matrix(y_test, y_pred)\n",
    "\n",
    "print(\"Confusion Matrix:\")\n",
    "print(conf_matrix)"
   ]
  },
  {
   "cell_type": "markdown",
   "id": "7f93a727",
   "metadata": {},
   "source": [
    "# Random Search"
   ]
  },
  {
   "cell_type": "code",
   "execution_count": 41,
   "id": "8f78b9dc",
   "metadata": {},
   "outputs": [
    {
     "name": "stdout",
     "output_type": "stream",
     "text": [
      "Fitting 3 folds for each of 20 candidates, totalling 60 fits\n",
      "Best Parameters: {'learning_rate': 0.01035331526098587, 'n_estimators': 188}\n",
      "RandomizedSearchCV took 48.90 seconds to complete.\n",
      "Test Accuracy: 63.67%\n"
     ]
    }
   ],
   "source": [
    "from sklearn.model_selection import RandomizedSearchCV\n",
    "from sklearn.tree import DecisionTreeClassifier\n",
    "from sklearn.ensemble import AdaBoostClassifier\n",
    "from scipy.stats import uniform, randint\n",
    "import time\n",
    "\n",
    "# Initialize base estimator (e.g., DecisionTreeClassifier with max_depth)\n",
    "base_estimator = DecisionTreeClassifier(max_depth=3)  # Reduced max_depth for faster training\n",
    "\n",
    "# Initialize AdaBoostClassifier with base_estimator\n",
    "adaboost_clf = AdaBoostClassifier(base_estimator=base_estimator, random_state=42)\n",
    "\n",
    "# Define parameter grid with further reduced ranges\n",
    "param_dist = {\n",
    "    'learning_rate': uniform(0.01, 0.05),  # Further reduced range for learning_rate\n",
    "    'n_estimators': randint(100, 300),  # Further reduced range for n_estimators\n",
    "}\n",
    "\n",
    "# Define RandomizedSearchCV with optimized settings\n",
    "random_search = RandomizedSearchCV(\n",
    "    estimator=adaboost_clf,\n",
    "    param_distributions=param_dist,\n",
    "    n_iter=20,  # Further reduced number of iterations\n",
    "    cv=3,  # Reduced number of cross-validation folds\n",
    "    scoring='accuracy',  # Using accuracy as a simpler scoring metric\n",
    "    random_state=42,\n",
    "    verbose=2,\n",
    "    n_jobs=-1,  # Utilize all available CPU cores for parallel processing\n",
    ")\n",
    "\n",
    "# Fit RandomizedSearchCV and measure execution time\n",
    "start_time = time.time()\n",
    "random_search.fit(X_train[:1000], y_train[:1000])  # Using a subset of training data for faster tuning\n",
    "end_time = time.time()\n",
    "\n",
    "# Print the best parameters found\n",
    "print(\"Best Parameters:\", random_search.best_params_)\n",
    "print(f\"RandomizedSearchCV took {end_time - start_time:.2f} seconds to complete.\")\n",
    "\n",
    "# Evaluate the best model on the test set\n",
    "best_clf = random_search.best_estimator_\n",
    "test_accuracy = best_clf.score(X_test, y_test)\n",
    "print(\"Test Accuracy: {:.2f}%\".format(test_accuracy * 100))\n"
   ]
  },
  {
   "cell_type": "code",
   "execution_count": 37,
   "id": "ef898692",
   "metadata": {},
   "outputs": [
    {
     "name": "stdout",
     "output_type": "stream",
     "text": [
      "Predition Time: 0.90903639793396\n"
     ]
    }
   ],
   "source": [
    "import time\n",
    "start_time = time.time()\n",
    "y_pred = best_model.predict(X_test)\n",
    "end_time = time.time()\n",
    "prediction = end_time-start_time\n",
    "print(\"Predition Time:\",prediction)"
   ]
  },
  {
   "cell_type": "code",
   "execution_count": 38,
   "id": "aba064a8",
   "metadata": {},
   "outputs": [
    {
     "name": "stdout",
     "output_type": "stream",
     "text": [
      "Accuracy: 0.6674892533036141\n",
      "Precision: [0.84232057 0.82251742 0.72510348 0.56287326]\n",
      "Recall: [0.47454431 0.33216076 0.83989847 0.93342503]\n",
      "F1 Score: [0.60707585 0.47321932 0.77829079 0.70226638]\n",
      "classification_report: \n",
      "              precision    recall  f1-score   support\n",
      "\n",
      "      Benign       0.84      0.47      0.61      4773\n",
      "         DoS       0.82      0.33      0.47     11371\n",
      " host-attack       0.73      0.84      0.78     10637\n",
      "       recon       0.56      0.93      0.70     10905\n",
      "\n",
      "    accuracy                           0.67     37686\n",
      "   macro avg       0.74      0.65      0.64     37686\n",
      "weighted avg       0.72      0.67      0.64     37686\n",
      "\n"
     ]
    }
   ],
   "source": [
    "from sklearn.metrics import confusion_matrix, precision_score, recall_score, f1_score, cohen_kappa_score, accuracy_score, classification_report\n",
    "acc = accuracy_score(y_test ,  y_pred)\n",
    "print('Accuracy:', acc)\n",
    "prec = precision_score(y_test, y_pred, average=None),mn\n",
    "print('Precision:', prec)\n",
    "rec = recall_score(y_test, y_pred, average=None)\n",
    "print('Recall:', rec)\n",
    "f1 = f1_score(y_test,y_pred, average=None)\n",
    "print('F1 Score:',f1)\n",
    "print('classification_report: ')\n",
    "print(classification_report(y_test, y_pred))"
   ]
  },
  {
   "cell_type": "code",
   "execution_count": 39,
   "id": "59e255d8",
   "metadata": {},
   "outputs": [
    {
     "name": "stdout",
     "output_type": "stream",
     "text": [
      "False Acceptance Rate (FAR) for each class:\n",
      "Class 0: 0.23046302116069556%\n",
      "Class 1: 33.21607598276317%\n",
      "Class 2: 6.402181066090062%\n",
      "Class 3: 1.1279229711141678%\n"
     ]
    }
   ],
   "source": [
    "from sklearn.metrics import confusion_matrix\n",
    "\n",
    "conf_matrix = confusion_matrix(y_test, y_pred)\n",
    "\n",
    "num_classes = len(np.unique(y_test))  # Get the number of unique classes in y_test\n",
    "if num_classes == 4 and conf_matrix.shape == (4, 4):\n",
    "    # Compute FAR for each class\n",
    "    false_acceptances = conf_matrix[:, 1]  # False acceptances for each class\n",
    "    total_attempts = np.sum(conf_matrix[:, :], axis=1)  # Total number of verification attempts for each class\n",
    "    far = (false_acceptances / total_attempts) * 100  # FAR for each class in percentage\n",
    "\n",
    "    print(\"False Acceptance Rate (FAR) for each class:\")\n",
    "    for i in range(4):  # Assuming you have 4 classes\n",
    "        print(f\"Class {i}: {far[i]}%\")\n",
    "\n",
    "else:\n",
    "    print(\"Error: Confusion matrix dimensions do not match the expected 4x4 shape for four-class classification.\")"
   ]
  },
  {
   "cell_type": "code",
   "execution_count": 40,
   "id": "184ad266",
   "metadata": {},
   "outputs": [
    {
     "name": "stdout",
     "output_type": "stream",
     "text": [
      "Confusion Matrix:\n",
      "[[ 2265    11  2148   349]\n",
      " [   76  3777   793  6725]\n",
      " [  191   681  8934   831]\n",
      " [  157   123   446 10179]]\n"
     ]
    }
   ],
   "source": [
    "from sklearn.metrics import confusion_matrix\n",
    "\n",
    "# Assuming y_test contains the true labels and y_pred contains the predicted labels\n",
    "conf_matrix = confusion_matrix(y_test, y_pred)\n",
    "\n",
    "print(\"Confusion Matrix:\")\n",
    "print(conf_matrix)"
   ]
  },
  {
   "cell_type": "markdown",
   "id": "a943126f",
   "metadata": {},
   "source": [
    "# Baye's Search"
   ]
  },
  {
   "cell_type": "code",
   "execution_count": null,
   "id": "207ba86e",
   "metadata": {},
   "outputs": [],
   "source": [
    "from sklearn.ensemble import AdaBoostClassifier\n",
    "from sklearn.model_selection import cross_val_score\n",
    "from skopt import BayesSearchCV\n",
    "from skopt.space import Real, Categorical, Integer\n",
    "\n",
    "# Define the parameter search space\n",
    "param_space = {\n",
    "    'n_estimators': [50, 60, 70, 80, 90, 100],\n",
    "    'learning_rate': Real(0.01, 1.0, prior='log-uniform'),\n",
    "}\n",
    "\n",
    "# Initialize AdaBoost classifier\n",
    "ada_boost = AdaBoostClassifier()\n",
    "\n",
    "# Define Bayesian optimization\n",
    "bayes_search = BayesSearchCV(\n",
    "    ada_boost,\n",
    "    param_space,\n",
    "    n_iter=50,  # Number of parameter settings that are sampled\n",
    "    cv=5,       # 5-fold cross-validation\n",
    "    n_jobs=-1,  # Use all available CPU cores\n",
    "    verbose=1   # Controls the verbosity\n",
    ")\n",
    "\n",
    "# Fit the model\n",
    "bayes_search.fit(X_train, y_train)\n",
    "\n",
    "# Print the best parameters found\n",
    "print(\"Best parameters:\", bayes_search.best_params_)\n",
    "\n",
    "# Evaluate the best model\n",
    "best_model = bayes_search.best_estimator_\n",
    "cross_val_scores = cross_val_score(best_model, X_train, y_train, cv=5)\n",
    "print(\"Cross-validation scores:\", cross_val_scores)\n",
    "print(\"Mean CV score:\", cross_val_scores.mean())\n",
    "\n",
    "# Finally, fit the best model to the full training data\n",
    "best_model.fit(X_train, y_train)\n"
   ]
  },
  {
   "cell_type": "code",
   "execution_count": 33,
   "id": "7ee9e706",
   "metadata": {},
   "outputs": [
    {
     "name": "stdout",
     "output_type": "stream",
     "text": [
      "Predition Time: 0.9111731052398682\n"
     ]
    }
   ],
   "source": [
    "import time\n",
    "start_time = time.time()\n",
    "y_pred = best_model.predict(X_test)\n",
    "end_time = time.time()\n",
    "prediction = end_time-start_time\n",
    "print(\"Predition Time:\",prediction)"
   ]
  },
  {
   "cell_type": "code",
   "execution_count": 34,
   "id": "ebc03f41",
   "metadata": {},
   "outputs": [
    {
     "name": "stdout",
     "output_type": "stream",
     "text": [
      "Accuracy: 0.6674892533036141\n",
      "Precision: [0.84232057 0.82251742 0.72510348 0.56287326]\n",
      "Recall: [0.47454431 0.33216076 0.83989847 0.93342503]\n",
      "F1 Score: [0.60707585 0.47321932 0.77829079 0.70226638]\n",
      "classification_report: \n",
      "              precision    recall  f1-score   support\n",
      "\n",
      "      Benign       0.84      0.47      0.61      4773\n",
      "         DoS       0.82      0.33      0.47     11371\n",
      " host-attack       0.73      0.84      0.78     10637\n",
      "       recon       0.56      0.93      0.70     10905\n",
      "\n",
      "    accuracy                           0.67     37686\n",
      "   macro avg       0.74      0.65      0.64     37686\n",
      "weighted avg       0.72      0.67      0.64     37686\n",
      "\n"
     ]
    }
   ],
   "source": [
    "from sklearn.metrics import confusion_matrix, precision_score, recall_score, f1_score, cohen_kappa_score, accuracy_score, classification_report\n",
    "acc = accuracy_score(y_test ,  y_pred)\n",
    "print('Accuracy:', acc)\n",
    "prec = precision_score(y_test, y_pred, average=None)\n",
    "print('Precision:', prec)\n",
    "rec = recall_score(y_test, y_pred, average=None)\n",
    "print('Recall:', rec)\n",
    "f1 = f1_score(y_test,y_pred, average=None)\n",
    "print('F1 Score:',f1)\n",
    "print('classification_report: ')\n",
    "print(classification_report(y_test, y_pred))"
   ]
  },
  {
   "cell_type": "code",
   "execution_count": 35,
   "id": "9fd87b6c",
   "metadata": {},
   "outputs": [
    {
     "name": "stdout",
     "output_type": "stream",
     "text": [
      "False Acceptance Rate (FAR) for each class:\n",
      "Class 0: 0.23046302116069556%\n",
      "Class 1: 33.21607598276317%\n",
      "Class 2: 6.402181066090062%\n",
      "Class 3: 1.1279229711141678%\n"
     ]
    }
   ],
   "source": [
    "from sklearn.metrics import confusion_matrix\n",
    "\n",
    "conf_matrix = confusion_matrix(y_test, y_pred)\n",
    "\n",
    "num_classes = len(np.unique(y_test))  # Get the number of unique classes in y_test\n",
    "if num_classes == 4 and conf_matrix.shape == (4, 4):\n",
    "    # Compute FAR for each class\n",
    "    false_acceptances = conf_matrix[:, 1]  # False acceptances for each class\n",
    "    total_attempts = np.sum(conf_matrix[:, :], axis=1)  # Total number of verification attempts for each class\n",
    "    far = (false_acceptances / total_attempts) * 100  # FAR for each class in percentage\n",
    "\n",
    "    print(\"False Acceptance Rate (FAR) for each class:\")\n",
    "    for i in range(4):  # Assuming you have 4 classes\n",
    "        print(f\"Class {i}: {far[i]}%\")\n",
    "\n",
    "else:\n",
    "    print(\"Error: Confusion matrix dimensions do not match the expected 4x4 shape for four-class classification.\")"
   ]
  },
  {
   "cell_type": "code",
   "execution_count": 36,
   "id": "9fe36060",
   "metadata": {},
   "outputs": [
    {
     "name": "stdout",
     "output_type": "stream",
     "text": [
      "Confusion Matrix:\n",
      "[[ 2265    11  2148   349]\n",
      " [   76  3777   793  6725]\n",
      " [  191   681  8934   831]\n",
      " [  157   123   446 10179]]\n"
     ]
    }
   ],
   "source": [
    "from sklearn.metrics import confusion_matrix\n",
    "\n",
    "# Assuming y_test contains the true labels and y_pred contains the predicted labels\n",
    "conf_matrix = confusion_matrix(y_test, y_pred)\n",
    "\n",
    "print(\"Confusion Matrix:\")\n",
    "print(conf_matrix)"
   ]
  },
  {
   "cell_type": "code",
   "execution_count": null,
   "id": "564661fa",
   "metadata": {},
   "outputs": [],
   "source": []
  }
 ],
 "metadata": {
  "kernelspec": {
   "display_name": "Python 3 (ipykernel)",
   "language": "python",
   "name": "python3"
  },
  "language_info": {
   "codemirror_mode": {
    "name": "ipython",
    "version": 3
   },
   "file_extension": ".py",
   "mimetype": "text/x-python",
   "name": "python",
   "nbconvert_exporter": "python",
   "pygments_lexer": "ipython3",
   "version": "3.11.3"
  }
 },
 "nbformat": 4,
 "nbformat_minor": 5
}
